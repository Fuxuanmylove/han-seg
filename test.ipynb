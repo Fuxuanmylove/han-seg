{
 "cells": [
  {
   "cell_type": "code",
   "execution_count": 1,
   "metadata": {},
   "outputs": [
    {
     "name": "stderr",
     "output_type": "stream",
     "text": [
      "Building prefix dict from the default dictionary ...\n",
      "Loading model from cache C:\\Users\\27932\\AppData\\Local\\Temp\\jieba.cache\n",
      "Loading model cost 0.359 seconds.\n",
      "Prefix dict has been built successfully.\n"
     ]
    },
    {
     "name": "stdout",
     "output_type": "stream",
     "text": [
      "['今天天气', '真', '好', '，', '适合', '出去', '散步', '。']\n",
      "[['今天天气', 'i'], ['真', 'd'], ['好', 'a'], ['，', 'x'], ['适合', 'v'], ['出去', 'v'], ['散步', 'n'], ['。', 'x']]\n",
      "['适合', '散步', '出去']\n"
     ]
    }
   ],
   "source": [
    "from han_seg.interface import HanSeg\n",
    "\n",
    "# 初始化thulac引擎\n",
    "seg = HanSeg(engine='jieba', config_path='config.yaml')\n",
    "text = \"今天天气真好，适合出去散步。\"\n",
    "\n",
    "# 分词\n",
    "print(seg.cut(text))  # ['今天', '天气', '真好', '适合', '出去', '散步']\n",
    "\n",
    "# 词性标注\n",
    "print(seg.pos(text))  # [('今天', 't'), ('天气', 'n'), ('真好', 'a'), ('适合', 'v'), ('出去', 'v'), ('散步', 'v')]\n",
    "\n",
    "# 关键词提取\n",
    "print(seg.keyword_extract(text))  # ['天气', '散步', '适合', '出去']"
   ]
  }
 ],
 "metadata": {
  "kernelspec": {
   "display_name": "Python 3",
   "language": "python",
   "name": "python3"
  },
  "language_info": {
   "codemirror_mode": {
    "name": "ipython",
    "version": 3
   },
   "file_extension": ".py",
   "mimetype": "text/x-python",
   "name": "python",
   "nbconvert_exporter": "python",
   "pygments_lexer": "ipython3",
   "version": "3.10.16"
  }
 },
 "nbformat": 4,
 "nbformat_minor": 2
}
